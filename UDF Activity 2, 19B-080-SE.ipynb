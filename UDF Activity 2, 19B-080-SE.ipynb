{
 "cells": [
  {
   "cell_type": "markdown",
   "metadata": {},
   "source": [
    "# Python User Define Function Practice Activity - 2 "
   ]
  },
  {
   "cell_type": "markdown",
   "metadata": {},
   "source": [
    "# A. Wassay Sardar, 19B-080-SE\n",
    "# Section B"
   ]
  },
  {
   "cell_type": "markdown",
   "metadata": {},
   "source": [
    "Sir Syed Faisal Ali              $\\;\\;\\;\\;\\;\\;$              Programming Fundamentals - FALL 2019 $\\;\\;\\;\\;\\;\\;$ Software Engineering                     $\\;\\;\\;\\;\\;\\;$                   Dated: 27 Nov 2019"
   ]
  },
  {
   "cell_type": "markdown",
   "metadata": {},
   "source": [
    "Question 1: Create a function to find the following:\n",
    "If the base of triangle is 3 cm long and its equilateral triangle and the radius of circle is 1.5 cm then find the area of triangle shaded. \n"
   ]
  },
  {
   "cell_type": "markdown",
   "metadata": {},
   "source": [
    "![proj](q1.jpg)"
   ]
  },
  {
   "cell_type": "code",
   "execution_count": 64,
   "metadata": {},
   "outputs": [
    {
     "data": {
      "text/plain": [
       "2.25"
      ]
     },
     "execution_count": 64,
     "metadata": {},
     "output_type": "execute_result"
    }
   ],
   "source": [
    "def area(b,r):\n",
    "    h=b*r/2\n",
    "    return h\n",
    "\n",
    "area(3,1.5)"
   ]
  },
  {
   "cell_type": "markdown",
   "metadata": {},
   "source": [
    "Question 2: Create a function which can read a dictionary of your family members such as 5 members. \n",
    "1 Abbu, 1 Ammi, 2 Brothers 1 Sister. Now feed this data in dictionary in terms of name and relations.\n",
    "The UDF will ask findrelation() in this you will enter Brother it will return the names of two brothers you have inserted. In case if the relation is not found it will return “Sorry the relation doesn’t exist in your family.” \n"
   ]
  },
  {
   "cell_type": "code",
   "execution_count": 80,
   "metadata": {},
   "outputs": [
    {
     "name": "stdout",
     "output_type": "stream",
     "text": [
      "Enter the relation name: brother\n"
     ]
    },
    {
     "data": {
      "text/plain": [
       "'Rafay Sardar, Wassay Sardar'"
      ]
     },
     "execution_count": 80,
     "metadata": {},
     "output_type": "execute_result"
    }
   ],
   "source": [
    "def findrelation(r):\n",
    "    dict = {'father':'Sardar Ahmed' , 'brother':'Rafay Sardar, Wassay Sardar' , 'sister':'Liza' , 'mother':'Ellen'}\n",
    "    if r not in dict:\n",
    "        print('Sorry the relation doesnt exist in your family.')\n",
    "    else:\n",
    "        return dict[r]\n",
    "\n",
    "ask=input('Enter the relation name: ')\n",
    "findrelation(ask)"
   ]
  },
  {
   "cell_type": "markdown",
   "metadata": {},
   "source": [
    "Question 3: Create a function to find the following:\n",
    "If the base of triangle is 5 cm long and its equilateral triangle and the radius of circle is 2.25 cm then find the area of triangle shaded. \n"
   ]
  },
  {
   "cell_type": "markdown",
   "metadata": {},
   "source": [
    "![proj](q3.jpg)"
   ]
  },
  {
   "cell_type": "code",
   "execution_count": 66,
   "metadata": {},
   "outputs": [
    {
     "data": {
      "text/plain": [
       "5.625"
      ]
     },
     "execution_count": 66,
     "metadata": {},
     "output_type": "execute_result"
    }
   ],
   "source": [
    "def area(b,r):\n",
    "    h=b*r/2\n",
    "    return h\n",
    "\n",
    "area(5,2.25)"
   ]
  },
  {
   "cell_type": "markdown",
   "metadata": {},
   "source": [
    "Question 4:\n",
    "Create a function that takes a list of random numbers from users and add only those which are even. If all the numbers are odd it will return sorry no even number found.\n"
   ]
  },
  {
   "cell_type": "code",
   "execution_count": 8,
   "metadata": {},
   "outputs": [
    {
     "name": "stdout",
     "output_type": "stream",
     "text": [
      "2\n",
      "sum of even numbers is: 2\n",
      "No even found!\n",
      "No even found!\n",
      "6\n",
      "sum of even numbers is: 8\n",
      "No even found!\n",
      "8\n",
      "sum of even numbers is: 16\n",
      "No even found!\n"
     ]
    }
   ],
   "source": [
    "def even(num):\n",
    "    s=0\n",
    "    for i in num:\n",
    "        if i%2==0:\n",
    "            print(i)\n",
    "            s = s+i\n",
    "            print(\"sum of even numbers is:\",s)\n",
    "        else:\n",
    "            print(\"No even found!\")\n",
    "even([2,3,5,6,7,8,9,])"
   ]
  },
  {
   "cell_type": "markdown",
   "metadata": {},
   "source": [
    "Question 5:\n",
    "Write a function which can take a list of numbers and it will return sorted list.\n"
   ]
  },
  {
   "cell_type": "code",
   "execution_count": 7,
   "metadata": {},
   "outputs": [
    {
     "name": "stdout",
     "output_type": "stream",
     "text": [
      "Enter a word: 3\n",
      "Enter a word: 2\n",
      "Enter a word: 7\n",
      "Enter a Word: 1\n"
     ]
    },
    {
     "data": {
      "text/plain": [
       "[1, 2, 3, 7]"
      ]
     },
     "execution_count": 7,
     "metadata": {},
     "output_type": "execute_result"
    }
   ],
   "source": [
    "def arrange(x):\n",
    "    x.sort()\n",
    "    return x\n",
    "numbers=[]\n",
    "n1=eval(input('Enter a number: '))\n",
    "n2=eval(input('Enter a number: '))\n",
    "n3=eval(input('Enter a number: '))\n",
    "n4=eval(input('Enter a number: '))\n",
    "numbers.append(n1)\n",
    "numbers.append(n2)\n",
    "numbers.append(n3)\n",
    "numbers.append(n4)\n",
    "arrange(numbers)"
   ]
  },
  {
   "cell_type": "markdown",
   "metadata": {},
   "source": [
    "Question 6:\n",
    "Write a function that will take the radius and return the perimeter and area of circle with 5% increment.\n"
   ]
  },
  {
   "cell_type": "code",
   "execution_count": 84,
   "metadata": {},
   "outputs": [
    {
     "name": "stdout",
     "output_type": "stream",
     "text": [
      "Perimeter 50.26548245743669\n",
      "Area of Circle: 211.1150263212341\n"
     ]
    }
   ],
   "source": [
    "from math import pi\n",
    "def area(r):\n",
    "    area_circle=pi*(r**2)\n",
    "    a = area_circle+(area_circle*0.05)\n",
    "    print(\"Perimeter\",2*pi*r)\n",
    "    print(\"Area of Circle:\",a)\n",
    "\n",
    "area(8)"
   ]
  },
  {
   "cell_type": "markdown",
   "metadata": {},
   "source": [
    "Question 7:\n",
    "Write a function that will take the strings as argument and return number of vowels and consonants.\n"
   ]
  },
  {
   "cell_type": "code",
   "execution_count": 86,
   "metadata": {},
   "outputs": [
    {
     "name": "stdout",
     "output_type": "stream",
     "text": [
      "Numbers of vowels: 2\n",
      "Numbers of consonants: 4\n"
     ]
    }
   ],
   "source": [
    "def countvc(word):\n",
    "    countv = 0\n",
    "    countc = 0\n",
    "    for i in word:\n",
    "        if i in \"AEIOU\" or i in \"aeiou\":\n",
    "            countv += 1\n",
    "        else:\n",
    "            countc += 1\n",
    "    print(\"Numbers of vowels:\",countv)\n",
    "    print(\"Numbers of consonants:\",countc)\n",
    "\n",
    "\n",
    "countvc('Wassay')"
   ]
  },
  {
   "cell_type": "markdown",
   "metadata": {},
   "source": [
    "Question 8:\n",
    "Write a function that will take length and breadth for a rectangle and return perimeter and area of rectangle with 8% increment.\n"
   ]
  },
  {
   "cell_type": "code",
   "execution_count": 87,
   "metadata": {},
   "outputs": [
    {
     "name": "stdout",
     "output_type": "stream",
     "text": [
      "Area of rectangle: 86.4\n",
      "Perimeter: 36\n"
     ]
    }
   ],
   "source": [
    "from math import pi\n",
    "def rect(l,b):\n",
    "    area=l*b\n",
    "    a=area+(area*0.08)\n",
    "    print(\"Area of rectangle:\",a)\n",
    "    print(\"Perimeter:\",2*(l+b))\n",
    "\n",
    "\n",
    "rect(8,10) "
   ]
  },
  {
   "cell_type": "markdown",
   "metadata": {},
   "source": [
    "Question 9:\n",
    "Write a function that can take the numbers in strings. From string find which number is even and which one is odd. Save them in two different lists and generate the result.\n"
   ]
  },
  {
   "cell_type": "code",
   "execution_count": 88,
   "metadata": {},
   "outputs": [
    {
     "name": "stdout",
     "output_type": "stream",
     "text": [
      "Numbers of Even : 3\n",
      "Numbers of odd: 3\n",
      "List of even: [2, 6, 8]\n",
      "List of odd: [3, 5, 7]\n"
     ]
    }
   ],
   "source": [
    "def even_odd(x):\n",
    "    even= 0\n",
    "    odd= 0\n",
    "    elist=[]\n",
    "    olist=[]\n",
    "    for i in x:\n",
    "        if (i)%2==0:\n",
    "            even+= 1\n",
    "            elist.append(i)\n",
    "        else:\n",
    "            odd+= 1\n",
    "            olist.append(i)\n",
    "    print('Numbers of Even :',even)\n",
    "    print('Numbers of odd:',odd)\n",
    "    print(\"List of even:\",elist)\n",
    "    print(\"List of odd:\",olist)\n",
    "    \n",
    "\n",
    "numbers=[2,6,8,3,5,7]\n",
    "even_odd(numbers)"
   ]
  },
  {
   "cell_type": "markdown",
   "metadata": {},
   "source": [
    "Question 10:\n",
    "Write a function which will take the string from the user and return how many alphabets have been used in it and which alphabets are missing.\n"
   ]
  },
  {
   "cell_type": "code",
   "execution_count": 89,
   "metadata": {},
   "outputs": [
    {
     "name": "stdout",
     "output_type": "stream",
     "text": [
      "Number of alphabets are: 4\n",
      "Missing alphabets are: bcdefghijklmnopqrtuvwxzABCDEFGHIJKLMNOPQRSTUVXYZ\n"
     ]
    }
   ],
   "source": [
    "def missing(x):\n",
    "    n=0\n",
    "    a_z=('abcdefghijklmnopqrstuvwxyzABCDEFGHIJKLMNOPQRSTUVWXYZ')\n",
    "    for i in x:\n",
    "        if i in a_z:\n",
    "            a_z=a_z.replace(i,\"\")\n",
    "            n+=1\n",
    "    print('Number of alphabets are:',n)\n",
    "    print('Missing alphabets are:',a_z)\n",
    "\n",
    "\n",
    "missing('Wasay')"
   ]
  },
  {
   "cell_type": "markdown",
   "metadata": {},
   "source": [
    "Question 11:\n",
    "Write a function that will take verbs in words and return a list of verbs with continuous tense by adding (ing) at the end of each verb.\n"
   ]
  },
  {
   "cell_type": "code",
   "execution_count": 90,
   "metadata": {},
   "outputs": [
    {
     "name": "stdout",
     "output_type": "stream",
     "text": [
      "writing\n"
     ]
    }
   ],
   "source": [
    "def verb(x):\n",
    "    if x[-1]=='e':\n",
    "        x=x.replace(x[-1],\"\")\n",
    "        print(x+\"ing\")\n",
    "    else:\n",
    "        print(x+\"ing\")\n",
    "\n",
    "\n",
    "verb('write')"
   ]
  },
  {
   "cell_type": "markdown",
   "metadata": {},
   "source": [
    "Question 12:\n",
    "Make a function which can take two radius of circles and find the areas of it and subtract smaller one from larger one and tell the remaining area of circle.\n"
   ]
  },
  {
   "cell_type": "code",
   "execution_count": 20,
   "metadata": {},
   "outputs": [
    {
     "data": {
      "text/plain": [
       "3769.9111843077517"
      ]
     },
     "execution_count": 20,
     "metadata": {},
     "output_type": "execute_result"
    }
   ],
   "source": [
    "from math import pi\n",
    "def area(r1,r2):\n",
    "    a1=pi*(r1**2)\n",
    "    a2=pi*(r2**2)\n",
    "    if a1 > a2:\n",
    "        circle=(a2-a1)\n",
    "    else:\n",
    "        circle=(a1-a2)\n",
    "    return abs(circle)\n",
    "\n",
    "\n",
    "area(20,40)"
   ]
  },
  {
   "cell_type": "markdown",
   "metadata": {},
   "source": [
    "Question 13:\n",
    "Write a function that will take a string and calculate number of Upper case letters and lower case letters.\n"
   ]
  },
  {
   "cell_type": "code",
   "execution_count": 91,
   "metadata": {},
   "outputs": [
    {
     "name": "stdout",
     "output_type": "stream",
     "text": [
      "Lower words: 5 Upper words: 1\n"
     ]
    }
   ],
   "source": [
    "def letter(x):\n",
    "    upper=0\n",
    "    lower=0\n",
    "    u=('ABCDEFGHIJKLMNOPQRSTUVWXYZ')\n",
    "    l=('abcdefghijklmnopqrstuvwxyz')\n",
    "    for i in x:\n",
    "        if i in u:\n",
    "            upper+=1\n",
    "        if i in l:\n",
    "            lower+=1\n",
    "    print('Lower words:',lower,'Upper words:',upper,)\n",
    "\n",
    "\n",
    "letter(\"Wassay\")"
   ]
  },
  {
   "cell_type": "markdown",
   "metadata": {},
   "source": [
    "Question 14:\n",
    "Write a function which will take length and breadth of two rectangles. Subtract the smaller rectangle from the larger rectangle and return the area left behind.\n"
   ]
  },
  {
   "cell_type": "code",
   "execution_count": 32,
   "metadata": {},
   "outputs": [
    {
     "data": {
      "text/plain": [
       "100"
      ]
     },
     "execution_count": 32,
     "metadata": {},
     "output_type": "execute_result"
    }
   ],
   "source": [
    "def area(l1,b1,l2,b2):\n",
    "    a1=l1*b1\n",
    "    a2=l2*b2\n",
    "    if a1 > a2:\n",
    "        rect=(a2-a1)\n",
    "    else:\n",
    "        rect=(a1-a2)\n",
    "    return abs(rect)\n",
    "\n",
    "\n",
    "area(5,10,10,15)"
   ]
  },
  {
   "cell_type": "markdown",
   "metadata": {},
   "source": [
    "Question 15:\n",
    "Create a function that can add the fractions in series such as 1 to 8 = 1/8+1/7+1/6+1/5 …… ½ and return the result in fraction not in decimal.\n"
   ]
  },
  {
   "cell_type": "code",
   "execution_count": 68,
   "metadata": {},
   "outputs": [
    {
     "name": "stdout",
     "output_type": "stream",
     "text": [
      "18608/105\n"
     ]
    }
   ],
   "source": [
    "from fractions import Fraction\n",
    "def frac(a,b):\n",
    "    f= 0\n",
    "    for i in range(a,b):\n",
    "        f+=Fraction(1,i)\n",
    "        f+=f\n",
    "    print(f)\n",
    "\n",
    "\n",
    "frac(1,8)"
   ]
  },
  {
   "cell_type": "markdown",
   "metadata": {},
   "source": [
    "Question 16:\n",
    "Write a function which will take height and base for a triangle and deferment the area by 5%, subtract both and find the remaining.\n"
   ]
  },
  {
   "cell_type": "code",
   "execution_count": 96,
   "metadata": {},
   "outputs": [
    {
     "name": "stdout",
     "output_type": "stream",
     "text": [
      "After deferment: 38.0\n"
     ]
    },
    {
     "data": {
      "text/plain": [
       "('Remaining', 2.0)"
      ]
     },
     "execution_count": 96,
     "metadata": {},
     "output_type": "execute_result"
    }
   ],
   "source": [
    "def area(h,b):\n",
    "    a=(h*b)/2\n",
    "    deduct=(a*5)/100\n",
    "    d_area=a-deduct\n",
    "    print('After deferment:',d_area)\n",
    "    remaining=a-d_area\n",
    "    return 'Remaining',abs(remaining)\n",
    "\n",
    "\n",
    "area(8,10)"
   ]
  },
  {
   "cell_type": "markdown",
   "metadata": {},
   "source": [
    "Question 17:\n",
    "Write a function which will take a list of fruits names. The function will return how many alphabets are repetitive in the names of fruits and how many are unique letters.\n"
   ]
  },
  {
   "cell_type": "code",
   "execution_count": 42,
   "metadata": {},
   "outputs": [
    {
     "data": {
      "text/plain": [
       "('Repeated alphabets:', 3)"
      ]
     },
     "execution_count": 42,
     "metadata": {},
     "output_type": "execute_result"
    }
   ],
   "source": [
    "def rep(x):\n",
    "    n=0\n",
    "    for i in x:\n",
    "        for j in i:\n",
    "            n=i.count(j)\n",
    "            if n > 1:\n",
    "                n+=1\n",
    "                return 'Repeated alphabets:',n\n",
    "\n",
    "\n",
    "fruits=['apple','banana','orange']\n",
    "rep(fruits)"
   ]
  },
  {
   "cell_type": "markdown",
   "metadata": {},
   "source": [
    "Question 18:\n",
    "Write a function that can take square length and radius of circle. Find the area of both and subtract the smallest shape from largest one and return the remaining shape area.\n"
   ]
  },
  {
   "cell_type": "code",
   "execution_count": 35,
   "metadata": {},
   "outputs": [
    {
     "name": "stdout",
     "output_type": "stream",
     "text": [
      "Area of square: 25\n",
      "Area of circle: 314.2\n"
     ]
    },
    {
     "data": {
      "text/plain": [
       "('Remaining area', 289.2)"
      ]
     },
     "execution_count": 35,
     "metadata": {},
     "output_type": "execute_result"
    }
   ],
   "source": [
    "def sql_crad(l,r):\n",
    "    sq_a=l*l\n",
    "    a_c= 3.142*(r**2)\n",
    "    print('Area of square:',sq_a)\n",
    "    print('Area of circle:',a_c)\n",
    "    if sq_a > a_c:\n",
    "        shape=(a_c - sq_a)\n",
    "    else:\n",
    "        shape=(sq_a - a_c)\n",
    "    return 'Remaining area',abs(shape)  \n",
    "\n",
    "\n",
    "sql_crad(5,10)"
   ]
  },
  {
   "cell_type": "markdown",
   "metadata": {},
   "source": [
    "# The End"
   ]
  }
 ],
 "metadata": {
  "kernelspec": {
   "display_name": "Python 3",
   "language": "python",
   "name": "python3"
  },
  "language_info": {
   "codemirror_mode": {
    "name": "ipython",
    "version": 3
   },
   "file_extension": ".py",
   "mimetype": "text/x-python",
   "name": "python",
   "nbconvert_exporter": "python",
   "pygments_lexer": "ipython3",
   "version": "3.7.3"
  }
 },
 "nbformat": 4,
 "nbformat_minor": 2
}
